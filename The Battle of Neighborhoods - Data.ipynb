{
 "cells": [
  {
   "cell_type": "markdown",
   "metadata": {},
   "source": [
    "The data used for this project will be acquired from Wikipedia. \n",
    "The\n",
    "datasets consists of the postal codes, neighborhood names, latitude, and longitude information for\n",
    "each neighborhood. \n",
    "Foursquare API search feature will be used to collect neighborhood venue\n",
    "information. Details about local venues and locality will be provide insight into the qualities of a\n",
    "neighborhood. \n",
    "\n",
    "In addition to Foursquare, various python packages will be used to create maps and\n",
    "machine learning models to further provide insights into our neighborhood battle project."
   ]
  },
  {
   "cell_type": "markdown",
   "metadata": {},
   "source": [
    "I used the following datasets:\n",
    "\n",
    "Toronto Neighborhoods - https://en.wikipedia.org/wiki/List_of_postal_codes_of_Canada:_M.\n",
    "\n",
    "Toronto Latitude and Longitude - http://cocl.us/Geospatial_data\n",
    "\n",
    "New York City neighborhoods - https://geo.nyu.edu/catalog/nyu_2451_34572\n",
    "\n",
    "New York City Latitude and Longitude = Python Geolibrar"
   ]
  },
  {
   "cell_type": "code",
   "execution_count": null,
   "metadata": {},
   "outputs": [],
   "source": []
  }
 ],
 "metadata": {
  "kernelspec": {
   "display_name": "Python 3",
   "language": "python",
   "name": "python3"
  },
  "language_info": {
   "codemirror_mode": {
    "name": "ipython",
    "version": 3
   },
   "file_extension": ".py",
   "mimetype": "text/x-python",
   "name": "python",
   "nbconvert_exporter": "python",
   "pygments_lexer": "ipython3",
   "version": "3.6.5"
  }
 },
 "nbformat": 4,
 "nbformat_minor": 2
}
